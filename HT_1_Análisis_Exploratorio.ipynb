{
  "nbformat": 4,
  "nbformat_minor": 0,
  "metadata": {
    "colab": {
      "provenance": [],
      "include_colab_link": true
    },
    "kernelspec": {
      "name": "python3",
      "display_name": "Python 3"
    },
    "language_info": {
      "name": "python"
    }
  },
  "cells": [
    {
      "cell_type": "markdown",
      "metadata": {
        "id": "view-in-github",
        "colab_type": "text"
      },
      "source": [
        "<a href=\"https://colab.research.google.com/github/Dahernandezsilve/HT1MD/blob/main/HT_1_An%C3%A1lisis_Exploratorio.ipynb\" target=\"_parent\"><img src=\"https://colab.research.google.com/assets/colab-badge.svg\" alt=\"Open In Colab\"/></a>"
      ]
    },
    {
      "cell_type": "markdown",
      "source": [
        "# Universidad del Valle de Guatemala\n",
        "Estudiantes:\n",
        "- Diego Alexander Hernández Silvestre 21270\n",
        "- Linda Inés Jimenez Vides 21169\n",
        "- Daniel Armando Valdez Reyes 21240\n",
        "\n",
        "\n",
        "\n",
        "## Hoja  de trabajo 1\n",
        "##  Haga una exploración rápida de sus datos, para eso haga un resumen de su conjuntos de datos\n",
        "\n"
      ],
      "metadata": {
        "id": "U-huoAHYp6Zh"
      }
    },
    {
      "cell_type": "code",
      "source": [
        "Hola\n"
      ],
      "metadata": {
        "id": "AsVAGHYDp41g"
      },
      "execution_count": null,
      "outputs": []
    }
  ]
}