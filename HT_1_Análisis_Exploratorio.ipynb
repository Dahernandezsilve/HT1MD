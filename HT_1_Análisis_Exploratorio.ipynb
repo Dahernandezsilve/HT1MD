{
  "cells": [
    {
      "cell_type": "markdown",
      "metadata": {
        "colab_type": "text",
        "id": "view-in-github"
      },
      "source": [
        "<a href=\"https://colab.research.google.com/github/Dahernandezsilve/HT1MD/blob/main/HT_1_An%C3%A1lisis_Exploratorio.ipynb\" target=\"_parent\"><img src=\"https://colab.research.google.com/assets/colab-badge.svg\" alt=\"Open In Colab\"/></a>"
      ]
    },
    {
      "cell_type": "markdown",
      "metadata": {
        "id": "U-huoAHYp6Zh"
      },
      "source": [
        "# Universidad del Valle de Guatemala\n",
        "18 Avenida 11-95 Guatemala      \n",
        "Departamento de Computación     \n",
        "Facultad de Ingeniería       \n",
        "Minería de Datos Sección 10         \n",
        "Fecha de entrega: 29/01/2024        \n",
        "\n",
        "Grupo 6 | Integrantes:\n",
        "- Diego Alexander Hernández Silvestre 21270\n",
        "- Linda Inés Jimenez Vides 21169\n",
        "- Daniel Armando Valdez Reyes 21240\n",
        "\n",
        "## Hoja  de trabajo 1\n",
        "Para realizar una exploración inicial del conjunto de datos, se prodeció a realizar un resumen de la información proporcionada en el dataset del archivo \"*movies.csv*. A continuación se muestran los resultados: "
      ]
    },
    {
      "cell_type": "code",
      "execution_count": 3,
      "metadata": {
        "id": "AsVAGHYDp41g"
      },
      "outputs": [
        {
          "name": "stdout",
          "output_type": "stream",
          "text": [
            "                                                title      year  runtime  \\\n",
            "0                            The Shawshank Redemption      1994      142   \n",
            "1                                       The Godfather      1972      175   \n",
            "2                 Ramayana: The Legend of Prince Rama      1993      135   \n",
            "3                                     The Chaos Class      1975       87   \n",
            "4                                               Daman      2022      121   \n",
            "...                                               ...       ...      ...   \n",
            "9844                            Welcome to the Jungle  I) (2013       95   \n",
            "9845                                        Boat Trip      2002       94   \n",
            "9846                  Did You Hear About the Morgans?      2009      103   \n",
            "9847                              The Crow: Salvation      2000      102   \n",
            "9848  Temptation: Confessions of a Marriage Counselor      2013      111   \n",
            "\n",
            "     certificate                         genre  \\\n",
            "0              R                         Drama   \n",
            "1              R                  Crime, Drama   \n",
            "2             PG  Animation, Action, Adventure   \n",
            "3            NaN                 Comedy, Drama   \n",
            "4            NaN              Adventure, Drama   \n",
            "...          ...                           ...   \n",
            "9844   Not Rated     Action, Adventure, Comedy   \n",
            "9845           R                        Comedy   \n",
            "9846       PG-13        Comedy, Drama, Romance   \n",
            "9847           R        Action, Crime, Fantasy   \n",
            "9848       PG-13                         Drama   \n",
            "\n",
            "                                               director  \\\n",
            "0     ['Frank Darabont', 'Tim Robbins', 'Morgan Free...   \n",
            "1     ['Francis Ford Coppola', 'Marlon Brando', 'Al ...   \n",
            "2     ['Ram Mohan', 'Yûgô Sakô', 'Koichi Saski', 'Ar...   \n",
            "3     ['Ertem Egilmez', 'Kemal Sunal', 'Münir Özkul'...   \n",
            "4     ['Lenka Debiprasad', 'Vishal Mourya', 'Karan K...   \n",
            "...                                                 ...   \n",
            "9844  ['Rob Meltzer', 'Jean-Claude Van Damme', 'Adam...   \n",
            "9845  ['Mort Nathan', 'Cuba Gooding Jr.', 'Horatio S...   \n",
            "9846  ['Marc Lawrence', 'Hugh Grant', 'Sarah Jessica...   \n",
            "9847  ['Bharat Nalluri', 'Kirsten Dunst', 'William A...   \n",
            "9848  ['Tyler Perry', 'Jurnee Smollett', 'Vanessa Wi...   \n",
            "\n",
            "                                                  stars  rating  metascore  \\\n",
            "0     ['Tim Robbins', 'Morgan Freeman', 'Bob Gunton'...     9.3       82.0   \n",
            "1     ['Marlon Brando', 'Al Pacino', 'James Caan', '...     9.2      100.0   \n",
            "2     ['Yûgô Sakô', 'Koichi Saski', 'Arun Govil', 'N...     9.2        NaN   \n",
            "3     ['Kemal Sunal', 'Münir Özkul', 'Halit Akçatepe...     9.2        NaN   \n",
            "4     ['Vishal Mourya', 'Karan Kandhapan', 'Babushan...     9.1        NaN   \n",
            "...                                                 ...     ...        ...   \n",
            "9844  ['Jean-Claude Van Damme', 'Adam Brody', 'Rob H...     4.9       25.0   \n",
            "9845  ['Cuba Gooding Jr.', 'Horatio Sanz', 'Roselyn ...     4.9       18.0   \n",
            "9846  ['Hugh Grant', 'Sarah Jessica Parker', 'Sam El...     4.9       27.0   \n",
            "9847  ['Kirsten Dunst', 'William Atherton', 'Debbie ...     4.9        NaN   \n",
            "9848  ['Jurnee Smollett', 'Vanessa Williams', 'Brand...     4.9       26.0   \n",
            "\n",
            "        votes   gross  \n",
            "0     2780534   28.34  \n",
            "1     1935895  134.97  \n",
            "2       12470     NaN  \n",
            "3       42018     NaN  \n",
            "4       13372     NaN  \n",
            "...       ...     ...  \n",
            "9844    13770     NaN  \n",
            "9845    31972    8.59  \n",
            "9846    41830   29.58  \n",
            "9847    11938     NaN  \n",
            "9848    12278   51.98  \n",
            "\n",
            "[9849 rows x 11 columns]\n"
          ]
        }
      ],
      "source": [
        "import pandas as pd\n",
        "dataframe = pd.read_csv(\"movies.csv\")\n",
        "print(dataframe)\n"
      ]
    }
  ],
  "metadata": {
    "colab": {
      "include_colab_link": true,
      "provenance": []
    },
    "kernelspec": {
      "display_name": "Python 3",
      "name": "python3"
    },
    "language_info": {
      "codemirror_mode": {
        "name": "ipython",
        "version": 3
      },
      "file_extension": ".py",
      "mimetype": "text/x-python",
      "name": "python",
      "nbconvert_exporter": "python",
      "pygments_lexer": "ipython3",
      "version": "3.10.11"
    }
  },
  "nbformat": 4,
  "nbformat_minor": 0
}
