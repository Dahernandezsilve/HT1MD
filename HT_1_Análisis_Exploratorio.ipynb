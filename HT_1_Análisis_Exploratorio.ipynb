{
  "cells": [
    {
      "cell_type": "markdown",
      "metadata": {
        "colab_type": "text",
        "id": "view-in-github"
      },
      "source": [
        "<a href=\"https://colab.research.google.com/github/Dahernandezsilve/HT1MD/blob/main/HT_1_An%C3%A1lisis_Exploratorio.ipynb\" target=\"_parent\"><img src=\"https://colab.research.google.com/assets/colab-badge.svg\" alt=\"Open In Colab\"/></a>"
      ]
    },
    {
      "cell_type": "markdown",
      "metadata": {
        "id": "U-huoAHYp6Zh"
      },
      "source": [
        "# Universidad del Valle de Guatemala\n",
        "18 Avenida 11-95 Guatemala      \n",
        "Departamento de Computación     \n",
        "Facultad de Ingeniería       \n",
        "Minería de Datos Sección 10         \n",
        "Fecha de entrega: 29/01/2024        \n",
        "\n",
        "Grupo 6 | Integrantes:\n",
        "- Diego Alexander Hernández Silvestre 21270\n",
        "- Linda Inés Jimenez Vides 21169\n",
        "- Daniel Armando Valdez Reyes 21240\n",
        "\n",
        "## Hoja  de trabajo 1\n",
        "## Para realizar una exploración inicial del conjunto de datos, se prodeció a realizar un resumen de la información proporcionada en el dataset del archivo \"*movies.csv*. A continuación se muestran los resultados: "
      ]
    },
    {
      "cell_type": "code",
      "execution_count": 4,
      "metadata": {
        "id": "AsVAGHYDp41g"
      },
      "outputs": [
        {
          "name": "stdout",
          "output_type": "stream",
          "text": [
            "           runtime       rating    metascore         votes        gross\n",
            "count  9849.000000  9849.000000  7876.000000  9.849000e+03  7015.000000\n",
            "mean    110.578333     6.723342    59.065135  9.083541e+04    40.095802\n",
            "std      21.881521     0.813738    17.223275  1.668340e+05    66.910694\n",
            "min      45.000000     4.900000     7.000000  1.000000e+04     0.000000\n",
            "25%      96.000000     6.100000    47.000000  1.683600e+04     2.340000\n",
            "50%     106.000000     6.700000    59.500000  3.405200e+04    17.040000\n",
            "75%     120.000000     7.300000    72.000000  9.051300e+04    48.810000\n",
            "max     439.000000     9.300000   100.000000  2.780534e+06   936.660000\n"
          ]
        }
      ],
      "source": [
        "import pandas as pd\n",
        "from typing import *\n",
        "\n",
        "dataframe: pd.DataFrame = pd.read_csv(\"movies.csv\")\n",
        "print(dataframe.describe())\n",
        "\n"
      ]
    }
  ],
  "metadata": {
    "colab": {
      "include_colab_link": true,
      "provenance": []
    },
    "kernelspec": {
      "display_name": "Python 3",
      "name": "python3"
    },
    "language_info": {
      "codemirror_mode": {
        "name": "ipython",
        "version": 3
      },
      "file_extension": ".py",
      "mimetype": "text/x-python",
      "name": "python",
      "nbconvert_exporter": "python",
      "pygments_lexer": "ipython3",
      "version": "3.10.11"
    }
  },
  "nbformat": 4,
  "nbformat_minor": 0
}
