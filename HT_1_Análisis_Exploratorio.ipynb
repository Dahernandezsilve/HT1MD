{
  "nbformat": 4,
  "nbformat_minor": 0,
  "metadata": {
    "colab": {
      "provenance": [],
      "include_colab_link": true
    },
    "kernelspec": {
      "name": "python3",
      "display_name": "Python 3"
    },
    "language_info": {
      "name": "python"
    }
  },
  "cells": [
    {
      "cell_type": "markdown",
      "metadata": {
        "id": "view-in-github",
        "colab_type": "text"
      },
      "source": [
        "<a href=\"https://colab.research.google.com/github/Dahernandezsilve/HT1MD/blob/main/HT_1_An%C3%A1lisis_Exploratorio.ipynb\" target=\"_parent\"><img src=\"https://colab.research.google.com/assets/colab-badge.svg\" alt=\"Open In Colab\"/></a>"
      ]
    },
    {
      "cell_type": "markdown",
      "source": [
        "# Hoja  de trabajo 1\n",
        "##  Haga una exploración rápida de sus datos, para eso haga un resumen de su conjuntos de datos\n",
        "\n"
      ],
      "metadata": {
        "id": "U-huoAHYp6Zh"
      }
    },
    {
      "cell_type": "code",
      "source": [
        "Hola\n"
      ],
      "metadata": {
        "id": "AsVAGHYDp41g"
      },
      "execution_count": null,
      "outputs": []
    }
  ]
}